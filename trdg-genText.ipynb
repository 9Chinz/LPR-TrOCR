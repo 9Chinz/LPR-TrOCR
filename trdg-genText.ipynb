{
 "cells": [
  {
   "cell_type": "code",
   "execution_count": 1,
   "metadata": {},
   "outputs": [
    {
     "name": "stderr",
     "output_type": "stream",
     "text": [
      "2023-09-10 19:08:00.525871: I tensorflow/core/platform/cpu_feature_guard.cc:182] This TensorFlow binary is optimized to use available CPU instructions in performance-critical operations.\n",
      "To enable the following instructions: AVX2 FMA, in other operations, rebuild TensorFlow with the appropriate compiler flags.\n",
      "2023-09-10 19:08:02.384397: W tensorflow/compiler/tf2tensorrt/utils/py_utils.cc:38] TF-TRT Warning: Could not find TensorRT\n",
      "/usr/lib/python3/dist-packages/requests/__init__.py:89: RequestsDependencyWarning: urllib3 (1.26.16) or chardet (3.0.4) doesn't match a supported version!\n",
      "  warnings.warn(\"urllib3 ({}) or chardet ({}) doesn't match a supported \"\n"
     ]
    },
    {
     "name": "stdout",
     "output_type": "stream",
     "text": [
      "Missing modules for handwritten text generation.\n"
     ]
    }
   ],
   "source": [
    "import random\n",
    "import math \n",
    "import os\n",
    "import pandas as pd\n",
    "import cv2\n",
    "from matplotlib import pyplot as plt\n",
    "import numpy as np\n",
    "import multiprocessing as mp\n",
    "from trdg.generators import (\n",
    "    GeneratorFromDict,\n",
    "    GeneratorFromRandom,\n",
    "    GeneratorFromStrings,\n",
    "    GeneratorFromWikipedia,\n",
    ")\n"
   ]
  },
  {
   "cell_type": "code",
   "execution_count": 2,
   "metadata": {},
   "outputs": [],
   "source": [
    "thai_alphabet = 'กขฃคฅฆงจฉชซฌญฎฏฐฑฒณดตถทธนบปผฝพฟภมยรลวศษสหฬอฮ'\n",
    "latin_num = '0123456789'\n",
    "thai_num = '๐๑๒๓๔๕๖๗๘๙'\n",
    "province = ['กรุงเทพมหานคร','กระบี่','กาญจนบุรี','กาฬสินธุ์','กำแพงเพชร','ขอนแก่น','จันทบุรี','ฉะเชิงเทรา','ชลบุรี'\n",
    ",'ชัยนาท','ชัยภูมิ','ชุมพร','เชียงราย','เชียงใหม่','ตรัง','ตราด','ตาก','นครนายก','นครปฐม','นครพนม','นครราชสีมา'\n",
    ",'นครศรีธรรมราช','นครสวรรค์','นนทบุรี','นราธิวาส','น่าน','บึงกาฬ','บุรีรัมย์','ปทุมธานี','ประจวบคีรีขันธ์','ปราจีนบุรี'\n",
    ",'ปัตตานี','พะเยา','พระนครศรีอยุธยา','พังงา','พัทลุง','พิจิตร','พิษณุโลก','เพชรบุรี','เพชรบูรณ์','แพร่','ภูเก็ต'\n",
    ",'มหาสารคาม','มุกดาหาร','แม่ฮ่องสอน','ยโสธร','ยะลา','ร้อยเอ็ด','ระนอง','ระยอง','ราชบุรี','ลพบุรี','ลำปาง'\n",
    ",'ลำพูน','เลย','ศรีสะเกษ','สกลนคร','สงขลา','สตูล','สมุทรปราการ','สมุทรสาคร','สมุทรสงคราม','สระแก้ว'\n",
    ",'สระบุรี','สิงห์บุรี','สุโขทัย','สุพรรณบุรี','สุราษฎร์ธานี','สุรินทร์','หนองคาย','หนองบัวลำภู','อ่างทอง','อุดรธานี'\n",
    ",'อุตรดิตถ์','อุทัยธานี','อุบลราชธานี','อำนาจเจริญ']"
   ]
  },
  {
   "cell_type": "code",
   "execution_count": 3,
   "metadata": {},
   "outputs": [],
   "source": [
    "def gen_license(get_first=True, get_province=False):\n",
    "    res_license = ''\n",
    "    if get_first:\n",
    "        res_license += random.choice(latin_num)\n",
    "    res_license +=  \"\".join(random.choices(thai_alphabet, k=2))\n",
    "    res_license += f' {\"\".join(random.choices(latin_num, k=4))}'\n",
    "    if get_province:\n",
    "        res_license += f' {random.choice(province)}'\n",
    "    return res_license\n",
    "\n",
    "def gen_license_dataset(amount=0):\n",
    "    total_license = []\n",
    "    for i in range(math.ceil(amount/4)):\n",
    "        total_license.append(gen_license(get_first=True, get_province=True))\n",
    "        total_license.append(gen_license(get_first=True, get_province=False))\n",
    "        total_license.append(gen_license(get_first=False, get_province=True))\n",
    "        total_license.append(gen_license(get_first=False, get_province=False))\n",
    "    return total_license\n"
   ]
  },
  {
   "cell_type": "code",
   "execution_count": 4,
   "metadata": {},
   "outputs": [
    {
     "name": "stdout",
     "output_type": "stream",
     "text": [
      "32000\n"
     ]
    }
   ],
   "source": [
    "\n",
    "gen_dict = 32000\n",
    "per_gen = math.ceil(gen_dict / 32)\n",
    "pool = mp.Pool(processes=mp.cpu_count())\n",
    "res = []\n",
    "for i in range(32):\n",
    "    res += pool.apply_async(gen_license_dataset, args=(per_gen, )).get()\n",
    "print(len(res))\n",
    "pool.close()"
   ]
  },
  {
   "cell_type": "code",
   "execution_count": 5,
   "metadata": {},
   "outputs": [
    {
     "name": "stdout",
     "output_type": "stream",
     "text": [
      "32000\n"
     ]
    }
   ],
   "source": [
    "license_gen_list = gen_license_dataset(32000)\n",
    "print(len(license_gen_list))"
   ]
  },
  {
   "cell_type": "code",
   "execution_count": 6,
   "metadata": {},
   "outputs": [
    {
     "name": "stdout",
     "output_type": "stream",
     "text": [
      "81022\n",
      "113022\n"
     ]
    }
   ],
   "source": [
    "file_dict = [word[:-1] for word in open(f\"./dict/th.txt\", 'r')]\n",
    "print(len(file_dict))\n",
    "file_dict += license_gen_list\n",
    "print(len(file_dict))"
   ]
  },
  {
   "cell_type": "code",
   "execution_count": 10,
   "metadata": {},
   "outputs": [
    {
     "name": "stdout",
     "output_type": "stream",
     "text": [
      "['เซเว่นธ์', 'ซีน', 'อังกฤษ', 'เป็น', 'วง', 'ดนตรี', 'ประกอบ', 'ด้วย', 'สมาชิก', 'คน']\n",
      "['จาก', 'คณะ', 'สถาปัตยกรรมศาสตร์', 'จุฬาลงกรณ์มหาวิทยาลัย', 'คือ', 'อภิวัชร์', 'เอื้อถาวรสุข', 'แสตมป์', 'นัก', 'ร้อง']\n"
     ]
    }
   ],
   "source": [
    "print(file_dict[:10])\n",
    "print(file_dict[10:20])"
   ]
  },
  {
   "cell_type": "code",
   "execution_count": null,
   "metadata": {},
   "outputs": [],
   "source": [
    "def create_gen(str_list, )\n"
   ]
  }
 ],
 "metadata": {
  "kernelspec": {
   "display_name": "Python 3",
   "language": "python",
   "name": "python3"
  },
  "language_info": {
   "codemirror_mode": {
    "name": "ipython",
    "version": 3
   },
   "file_extension": ".py",
   "mimetype": "text/x-python",
   "name": "python",
   "nbconvert_exporter": "python",
   "pygments_lexer": "ipython3",
   "version": "3.8.10"
  },
  "orig_nbformat": 4
 },
 "nbformat": 4,
 "nbformat_minor": 2
}
